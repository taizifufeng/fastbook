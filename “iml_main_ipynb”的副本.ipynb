{
  "cells": [
    {
      "cell_type": "markdown",
      "metadata": {
        "id": "view-in-github",
        "colab_type": "text"
      },
      "source": [
        "<a href=\"https://colab.research.google.com/github/taizifufeng/fastbook/blob/master/%E2%80%9Ciml_main_ipynb%E2%80%9D%E7%9A%84%E5%89%AF%E6%9C%AC.ipynb\" target=\"_parent\"><img src=\"https://colab.research.google.com/assets/colab-badge.svg\" alt=\"Open In Colab\"/></a>"
      ]
    },
    {
      "cell_type": "markdown",
      "metadata": {
        "id": "JC4MtUux4bUK"
      },
      "source": [
        "[ itsmhkapoor/triplet-loss-same: 演示了一个三重损失来计算三幅图像之间的关系，当一幅图像与另一幅图像相似而与第三幅图像不同时。]( https://github.com/itsmhkapoor/triplet-loss-similarity )"
      ]
    },
    {
      "cell_type": "markdown",
      "metadata": {
        "id": "LxokmPSS5xJG"
      },
      "source": [
        "自述文件 [triplet-loss-similarity/README.md at main · itsmhkapoor/triplet-loss-similarity](https://github.com/itsmhkapoor/triplet-loss-similarity/blob/main/README.md)"
      ]
    },
    {
      "cell_type": "markdown",
      "metadata": {
        "id": "CEO6cRTJ5nak"
      },
      "source": [
        "ResNet50"
      ]
    },
    {
      "cell_type": "markdown",
      "metadata": {
        "id": "2pE5tBx26LaA"
      },
      "source": [
        "pandas"
      ]
    },
    {
      "cell_type": "markdown",
      "metadata": {
        "id": "lOs2ZORIzlOM"
      },
      "source": []
    },
    {
      "cell_type": "markdown",
      "metadata": {
        "id": "iVZwEaew6RJh"
      },
      "source": [
        "tensorflow"
      ]
    },
    {
      "cell_type": "markdown",
      "metadata": {
        "id": "wCBwMCtaeY4H"
      },
      "source": [
        "### Mount Drive"
      ]
    },
    {
      "cell_type": "markdown",
      "metadata": {
        "id": "8aIzWHtLGfp9"
      },
      "source": [
        "skimage即是Scikit-Image。基于python脚本语言开发的数字图片处理包，比如PIL,Pillow, opencv, scikit-image等。\n",
        "\n",
        "PIL和Pillow只提供最基础的数字图像处理，功能有限。\n",
        "opencv实际上是一个c++库，只是提供了python接口，更新速度非常慢。\n",
        "scikit-image是基于scipy的一款图像处理包，它将图片作为numpy数组进行处理，正好与matlab一样，因此，我们最终选择scikit-image进行数字图像处理。\n",
        "————————————————\n",
        "版权声明：本文为CSDN博主「我与懒惰作斗争的日子」的原创文章，遵循CC 4.0 BY-SA版权协议，转载请附上原文出处链接及本声明。\n",
        "原文链接：https://blog.csdn.net/qq_39437730/article/details/117994355"
      ]
    },
    {
      "cell_type": "markdown",
      "metadata": {
        "id": "zbOvDiOE4iXw"
      },
      "source": [
        "\n",
        "\n",
        "```\n",
        "#requirements.txt\n",
        "#pandas==1.4.1\n",
        "matplotlib==3.5.1\n",
        "numpy==1.21.5\n",
        "scikit_learn==1.1.1\n",
        "tensorflow==2.9.1\n",
        "tqdm==4.62.3\n",
        "scikit-image\n",
        "```\n",
        "\n"
      ]
    },
    {
      "cell_type": "code",
      "execution_count": null,
      "metadata": {
        "colab": {
          "base_uri": "https://localhost:8080/"
        },
        "id": "7vkyjoKPDuc6",
        "outputId": "a75ff85e-3b2b-43f5-ccba-94018ef55759"
      },
      "outputs": [
        {
          "name": "stdout",
          "output_type": "stream",
          "text": [
            "Drive already mounted at /content/drive; to attempt to forcibly remount, call drive.mount(\"/content/drive\", force_remount=True).\n"
          ]
        }
      ],
      "source": [
        "from google.colab import drive\n",
        "drive.mount('/content/drive')"
      ]
    },
    {
      "cell_type": "code",
      "execution_count": null,
      "metadata": {
        "colab": {
          "base_uri": "https://localhost:8080/"
        },
        "id": "TaVUhNChDRXr",
        "outputId": "cf46c98a-67ce-4f0e-cff8-724b49cbf4d4"
      },
      "outputs": [
        {
          "name": "stdout",
          "output_type": "stream",
          "text": [
            "\u001b[31mERROR: Could not open requirements file: [Errno 2] No such file or directory: '/content/sample_data/requirements'\u001b[0m\u001b[31m\n",
            "\u001b[0m"
          ]
        }
      ],
      "source": [
        "pip install -r /content/sample_data/requirements"
      ]
    },
    {
      "cell_type": "markdown",
      "metadata": {
        "id": "nWddnb3weeLd"
      },
      "source": [
        "### Import Libraries"
      ]
    },
    {
      "cell_type": "code",
      "execution_count": null,
      "metadata": {
        "id": "ARSq-lZ15-XL"
      },
      "outputs": [],
      "source": [
        "import os\n",
        "import glob\n",
        "import csv \n",
        "\n",
        "import numpy as np \n",
        "import pandas as pd\n",
        "import matplotlib.pyplot as plt\n",
        "from tqdm import tqdm_notebook as tqdm\n",
        "\n",
        "from sklearn.model_selection import train_test_split\n",
        "from skimage import io, transform\n",
        "\n",
        "from numpy.linalg import norm \n",
        "import matplotlib.pyplot as plt \n",
        "\n",
        "import tensorflow as tf\n",
        "\n",
        "from tensorflow.keras.applications.resnet50 import ResNet50\n",
        "from tensorflow.keras.applications.resnet50 import preprocess_input\n",
        "\n",
        "from keras.layers import Input,Embedding,LSTM,Dense\n",
        "from keras.models import Model\n",
        "from keras import backend as K"
      ]
    },
    {
      "cell_type": "markdown",
      "metadata": {
        "id": "3iOvDYVC5Vye"
      },
      "source": [
        "该模型在私有数据集上进行了训练和测试。训练三元组在 .txt 文件中给出，格式为 'anchor_image_name positive_image_name negative_image_name'，另一个文件中的测试三元组也是如此。作为预处理步骤，所有图像的大小都调整为 224x224（ResNet50 的输入大小）。"
      ]
    },
    {
      "cell_type": "markdown",
      "metadata": {
        "id": "9wtKZSEn41C2"
      },
      "source": [
        "[(5条消息) 【Pandas总结】第二节 Pandas 的数据读取_pd.read_csv()的使用详解（非常全面，推荐收藏）_这么神奇的博客-CSDN博客](https://blog.csdn.net/weixin_47139649/article/details/126744842)"
      ]
    },
    {
      "cell_type": "code",
      "execution_count": null,
      "metadata": {
        "colab": {
          "base_uri": "https://localhost:8080/",
          "height": 441
        },
        "id": "UgXTKVQw6QIo",
        "outputId": "599a1808-f516-4ea7-9693-b1a80a1e297d"
      },
      "outputs": [
        {
          "name": "stdout",
          "output_type": "stream",
          "text": [
            "(256, 3) (256, 3)\n"
          ]
        },
        {
          "data": {
            "text/html": [
              "\n",
              "  <div id=\"df-ec80446a-8494-4799-8644-d1a903d39e32\">\n",
              "    <div class=\"colab-df-container\">\n",
              "      <div>\n",
              "<style scoped>\n",
              "    .dataframe tbody tr th:only-of-type {\n",
              "        vertical-align: middle;\n",
              "    }\n",
              "\n",
              "    .dataframe tbody tr th {\n",
              "        vertical-align: top;\n",
              "    }\n",
              "\n",
              "    .dataframe thead th {\n",
              "        text-align: right;\n",
              "    }\n",
              "</style>\n",
              "<table border=\"1\" class=\"dataframe\">\n",
              "  <thead>\n",
              "    <tr style=\"text-align: right;\">\n",
              "      <th></th>\n",
              "      <th>img</th>\n",
              "      <th>img1</th>\n",
              "      <th>img2</th>\n",
              "    </tr>\n",
              "  </thead>\n",
              "  <tbody>\n",
              "    <tr>\n",
              "      <th>0</th>\n",
              "      <td>01(1)</td>\n",
              "      <td>01(1)</td>\n",
              "      <td>43(1)</td>\n",
              "    </tr>\n",
              "    <tr>\n",
              "      <th>1</th>\n",
              "      <td>02(1)</td>\n",
              "      <td>02(1)</td>\n",
              "      <td>52(1)</td>\n",
              "    </tr>\n",
              "    <tr>\n",
              "      <th>2</th>\n",
              "      <td>03(1)</td>\n",
              "      <td>03(1)</td>\n",
              "      <td>51(1)</td>\n",
              "    </tr>\n",
              "    <tr>\n",
              "      <th>3</th>\n",
              "      <td>04(1)</td>\n",
              "      <td>04(1)</td>\n",
              "      <td>54(1)</td>\n",
              "    </tr>\n",
              "    <tr>\n",
              "      <th>4</th>\n",
              "      <td>05(1)</td>\n",
              "      <td>05(1)</td>\n",
              "      <td>55(1)</td>\n",
              "    </tr>\n",
              "    <tr>\n",
              "      <th>...</th>\n",
              "      <td>...</td>\n",
              "      <td>...</td>\n",
              "      <td>...</td>\n",
              "    </tr>\n",
              "    <tr>\n",
              "      <th>95</th>\n",
              "      <td>d8</td>\n",
              "      <td>d8</td>\n",
              "      <td>d2</td>\n",
              "    </tr>\n",
              "    <tr>\n",
              "      <th>96</th>\n",
              "      <td>e1</td>\n",
              "      <td>e1</td>\n",
              "      <td>e5</td>\n",
              "    </tr>\n",
              "    <tr>\n",
              "      <th>97</th>\n",
              "      <td>e2</td>\n",
              "      <td>e2</td>\n",
              "      <td>e8</td>\n",
              "    </tr>\n",
              "    <tr>\n",
              "      <th>98</th>\n",
              "      <td>e3</td>\n",
              "      <td>e3</td>\n",
              "      <td>e6</td>\n",
              "    </tr>\n",
              "    <tr>\n",
              "      <th>99</th>\n",
              "      <td>e4</td>\n",
              "      <td>e4</td>\n",
              "      <td>e3</td>\n",
              "    </tr>\n",
              "  </tbody>\n",
              "</table>\n",
              "<p>100 rows × 3 columns</p>\n",
              "</div>\n",
              "      <button class=\"colab-df-convert\" onclick=\"convertToInteractive('df-ec80446a-8494-4799-8644-d1a903d39e32')\"\n",
              "              title=\"Convert this dataframe to an interactive table.\"\n",
              "              style=\"display:none;\">\n",
              "        \n",
              "  <svg xmlns=\"http://www.w3.org/2000/svg\" height=\"24px\"viewBox=\"0 0 24 24\"\n",
              "       width=\"24px\">\n",
              "    <path d=\"M0 0h24v24H0V0z\" fill=\"none\"/>\n",
              "    <path d=\"M18.56 5.44l.94 2.06.94-2.06 2.06-.94-2.06-.94-.94-2.06-.94 2.06-2.06.94zm-11 1L8.5 8.5l.94-2.06 2.06-.94-2.06-.94L8.5 2.5l-.94 2.06-2.06.94zm10 10l.94 2.06.94-2.06 2.06-.94-2.06-.94-.94-2.06-.94 2.06-2.06.94z\"/><path d=\"M17.41 7.96l-1.37-1.37c-.4-.4-.92-.59-1.43-.59-.52 0-1.04.2-1.43.59L10.3 9.45l-7.72 7.72c-.78.78-.78 2.05 0 2.83L4 21.41c.39.39.9.59 1.41.59.51 0 1.02-.2 1.41-.59l7.78-7.78 2.81-2.81c.8-.78.8-2.07 0-2.86zM5.41 20L4 18.59l7.72-7.72 1.47 1.35L5.41 20z\"/>\n",
              "  </svg>\n",
              "      </button>\n",
              "      \n",
              "  <style>\n",
              "    .colab-df-container {\n",
              "      display:flex;\n",
              "      flex-wrap:wrap;\n",
              "      gap: 12px;\n",
              "    }\n",
              "\n",
              "    .colab-df-convert {\n",
              "      background-color: #E8F0FE;\n",
              "      border: none;\n",
              "      border-radius: 50%;\n",
              "      cursor: pointer;\n",
              "      display: none;\n",
              "      fill: #1967D2;\n",
              "      height: 32px;\n",
              "      padding: 0 0 0 0;\n",
              "      width: 32px;\n",
              "    }\n",
              "\n",
              "    .colab-df-convert:hover {\n",
              "      background-color: #E2EBFA;\n",
              "      box-shadow: 0px 1px 2px rgba(60, 64, 67, 0.3), 0px 1px 3px 1px rgba(60, 64, 67, 0.15);\n",
              "      fill: #174EA6;\n",
              "    }\n",
              "\n",
              "    [theme=dark] .colab-df-convert {\n",
              "      background-color: #3B4455;\n",
              "      fill: #D2E3FC;\n",
              "    }\n",
              "\n",
              "    [theme=dark] .colab-df-convert:hover {\n",
              "      background-color: #434B5C;\n",
              "      box-shadow: 0px 1px 3px 1px rgba(0, 0, 0, 0.15);\n",
              "      filter: drop-shadow(0px 1px 2px rgba(0, 0, 0, 0.3));\n",
              "      fill: #FFFFFF;\n",
              "    }\n",
              "  </style>\n",
              "\n",
              "      <script>\n",
              "        const buttonEl =\n",
              "          document.querySelector('#df-ec80446a-8494-4799-8644-d1a903d39e32 button.colab-df-convert');\n",
              "        buttonEl.style.display =\n",
              "          google.colab.kernel.accessAllowed ? 'block' : 'none';\n",
              "\n",
              "        async function convertToInteractive(key) {\n",
              "          const element = document.querySelector('#df-ec80446a-8494-4799-8644-d1a903d39e32');\n",
              "          const dataTable =\n",
              "            await google.colab.kernel.invokeFunction('convertToInteractive',\n",
              "                                                     [key], {});\n",
              "          if (!dataTable) return;\n",
              "\n",
              "          const docLinkHtml = 'Like what you see? Visit the ' +\n",
              "            '<a target=\"_blank\" href=https://colab.research.google.com/notebooks/data_table.ipynb>data table notebook</a>'\n",
              "            + ' to learn more about interactive tables.';\n",
              "          element.innerHTML = '';\n",
              "          dataTable['output_type'] = 'display_data';\n",
              "          await google.colab.output.renderOutput(dataTable, element);\n",
              "          const docLink = document.createElement('div');\n",
              "          docLink.innerHTML = docLinkHtml;\n",
              "          element.appendChild(docLink);\n",
              "        }\n",
              "      </script>\n",
              "    </div>\n",
              "  </div>\n",
              "  "
            ],
            "text/plain": [
              "      img   img1   img2\n",
              "0   01(1)  01(1)  43(1)\n",
              "1   02(1)  02(1)  52(1)\n",
              "2   03(1)  03(1)  51(1)\n",
              "3   04(1)  04(1)  54(1)\n",
              "4   05(1)  05(1)  55(1)\n",
              "..    ...    ...    ...\n",
              "95     d8     d8     d2\n",
              "96     e1     e1     e5\n",
              "97     e2     e2     e8\n",
              "98     e3     e3     e6\n",
              "99     e4     e4     e3\n",
              "\n",
              "[100 rows x 3 columns]"
            ]
          },
          "execution_count": 60,
          "metadata": {},
          "output_type": "execute_result"
        }
      ],
      "source": [
        "train = pd.read_csv('/content/drive/MyDrive/image/txt/train_triplets.txt', header=None, sep=' ', dtype='str')\n",
        "test = pd.read_csv('/content/drive/MyDrive/image/txt/test_triplets.txt', header=None, sep=' ', dtype='str')\n",
        "train.columns = ['img', 'img1', 'img2']\n",
        "test.columns = ['img', 'img1', 'img2']\n",
        "\n",
        "print (train.shape, test.shape)\n",
        "\n",
        "train.head(100)"
      ]
    },
    {
      "cell_type": "markdown",
      "metadata": {
        "id": "tnLcdmwZek6p"
      },
      "source": [
        "### Load Images and Train-Validation Split"
      ]
    },
    {
      "cell_type": "markdown",
      "metadata": {
        "id": "KJhYaDU_2gEc"
      },
      "source": [
        "加载图像和训练验证拆分"
      ]
    },
    {
      "cell_type": "code",
      "execution_count": null,
      "metadata": {
        "id": "k2dnflcF6Tib"
      },
      "outputs": [],
      "source": [
        "allow_val_overlap = True\n",
        "\n",
        "#定义了两个函数\n",
        "#get_data(两个输入)\n",
        "def get_data(df, ids): \n",
        "    #select(三个输入)\n",
        "    def select(x, y, z):\n",
        "        if x in ids and y in ids and z in ids:\n",
        "            return True\n",
        "        return False\n",
        "    dat = df.copy() #复制df\n",
        "    #lambda函数也叫匿名函数，即没有具体名称的函数，它允许快速定义单行函数，可以用在任何需要函数的地方。这区别于def定义的函数。\n",
        "    dat['Select'] = dat[['img', 'img1', 'img2']].apply(lambda x: select(x['img'], x['img1'], x['img2']), axis=1)\n",
        "    return df[dat['Select']==True]"
      ]
    },
    {
      "cell_type": "code",
      "execution_count": null,
      "metadata": {
        "id": "efbj8yzsKIld"
      },
      "outputs": [],
      "source": [
        "\n",
        "if allow_val_overlap:\n",
        "  #拆分训练集和验证集\n",
        "    x_train, x_val = train_test_split(train, shuffle=True, random_state=2019, test_size=0.2)\n",
        "else:\n",
        "    temp = np.unique(train[['img', 'img1', 'img2']].values) \n",
        "    #对于一维数组或者列表\n",
        "    #np.unique() 函数去除其中重复的元素 ，并按元素由小到大 返回一个新的无元素重复的元组或者列表。\n",
        "    np.random.seed(643)\n",
        "    ids = np.random.randint(0, len(temp), size=1500)\n",
        "    tids = temp[~np.isin(np.arange(len(temp)), ids)]\n",
        "    vids = temp[ids]\n",
        "\n",
        "    trn = get_data(train, tids)\n",
        "    val = get_data(train, vids)\n",
        "    x_train = trn\n",
        "    x_val = val\n",
        "\n",
        "img_dir = '/content/drive/MyDrive/image/' # write image directory path\n",
        "\n",
        "imgs = {}\n",
        "#glob.glob()返回所有匹配的文件路径列表。只有一个参数pathname，定义了文件路径匹配规则\n",
        "\n",
        "for file in glob.glob(img_dir+'*.png'):\n",
        "    img = tf.keras.preprocessing.image.load_img(file, target_size=(224, 224))\n",
        "    img = tf.keras.preprocessing.image.img_to_array(img) \n",
        "    img = np.expand_dims(img, axis=0)\n",
        "    img = preprocess_input(img) \n",
        "    imgs[os.path.basename(file)[:-4]] = np.squeeze(img)"
      ]
    },
    {
      "cell_type": "code",
      "execution_count": null,
      "metadata": {
        "colab": {
          "base_uri": "https://localhost:8080/",
          "height": 241
        },
        "id": "kOIiPmHOW9-N",
        "outputId": "693307dc-a3fd-4536-c56e-f8f26225e4ba"
      },
      "outputs": [
        {
          "data": {
            "image/png": "[encoded data removed]",
            "text/plain": [
              "<PIL.Image.Image image mode=RGB size=224x224 at 0x7FAB2CE93CA0>"
            ]
          },
          "execution_count": 63,
          "metadata": {},
          "output_type": "execute_result"
        }
      ],
      "source": [
        "img1 = tf.keras.preprocessing.image.load_img(img_dir+'78(1).png', target_size=(224, 224))\n",
        "#img = tf.keras.preprocessing.image.img_to_array(img) \n",
        "#img = np.expand_dims(img, axis=0)\n",
        "#img = preprocess_input(img)\n",
        "#img = np.squeeze(img)\n",
        "img1\n",
        "#imgs"
      ]
    },
    {
      "cell_type": "code",
      "execution_count": null,
      "metadata": {
        "id": "vZZOm8BBYiHw"
      },
      "outputs": [],
      "source": []
    },
    {
      "cell_type": "code",
      "execution_count": null,
      "metadata": {
        "id": "J9c6qDfT7GUG"
      },
      "outputs": [],
      "source": [
        "class DataGenerator(tf.keras.utils.Sequence):\n",
        "    def __init__(self, list_IDs, batch_size=4, inp_dim=(224, 224, 3), n_classes=2, shuffle=True):\n",
        "        self.inp_dim = inp_dim\n",
        "        self.batch_size = batch_size\n",
        "        self.list_IDs = list_IDs\n",
        "        self.n_classes = n_classes\n",
        "        \n",
        "        self.shuffle = shuffle\n",
        "        self.on_epoch_end()\n",
        "        \n",
        "    def __len__(self):\n",
        "        return int(np.ceil(len(self.list_IDs) / self.batch_size))\n",
        "\n",
        "    def __getitem__(self, index):\n",
        "        indexes = self.indexes[index*self.batch_size:(index+1)*self.batch_size]\n",
        "        list_IDs_temp = [self.list_IDs[k] for k in indexes]\n",
        "        X1, X2, X3, y = self.__data_generation(list_IDs_temp)\n",
        "        return [X1, X2, X3], y\n",
        "\n",
        "    def on_epoch_end(self):\n",
        "        self.indexes = np.arange(len(self.list_IDs))\n",
        "        if self.shuffle == True:\n",
        "            np.random.shuffle(self.indexes)\n",
        "\n",
        "    def __data_generation(self, list_IDs_temp):\n",
        "        X1 = []\n",
        "        X2 = []\n",
        "        X3 = []\n",
        "        y = np.empty((self.batch_size), dtype=int)\n",
        "        for i, ID in enumerate(list_IDs_temp):\n",
        "            record = ID \n",
        "            X1.append(imgs[record[0]])\n",
        "            X2.append(imgs[record[1]])\n",
        "            X3.append(imgs[record[2]])\n",
        "            y[i] = 1\n",
        "        return np.array(X1), np.array(X2), np.array(X3), y\n",
        "#生成训练集和验证集\n",
        "training_generator = DataGenerator(x_train.values, batch_size=64, n_classes=2, shuffle=True)\n",
        "validation_generator = DataGenerator(x_val.values, batch_size=64, n_classes=2, shuffle=True)\n",
        "#最后的预测集\n",
        "testing_generator = DataGenerator(test.values, batch_size=64, n_classes=2, shuffle=False)"
      ]
    },
    {
      "cell_type": "code",
      "execution_count": null,
      "metadata": {
        "colab": {
          "base_uri": "https://localhost:8080/"
        },
        "id": "BDcKiK_tYvO8",
        "outputId": "a9cc7768-5813-4db5-8a21-4a218de78389"
      },
      "outputs": [
        {
          "data": {
            "text/plain": [
              "array([['B26', 'B26', 'B66'],\n",
              "       ['S47', 'S47', 'S07'],\n",
              "       ['S52', 'S52', 'S12'],\n",
              "       ['06(1)', '06(1)', '51(1)'],\n",
              "       ['45(1)', '45(1)', '41(1)'],\n",
              "       ['B51', 'B51', 'B11'],\n",
              "       ['76(1)', '76(1)', '03(1)'],\n",
              "       ['B05', 'B05', 'B45'],\n",
              "       ['25(1)', '25(1)', '71(1)'],\n",
              "       ['23(1)', '23(1)', '74(1)'],\n",
              "       ['51(1)', '51(1)', '01(1)'],\n",
              "       ['B02', 'B02', 'B42'],\n",
              "       ['42(1)', '42(1)', '48(1)'],\n",
              "       ['44(1)', '44(1)', '47(1)'],\n",
              "       ['S37', 'S37', 'S77'],\n",
              "       ['S51', 'S51', 'S11'],\n",
              "       ['77(1)', '77(1)', '07(1)'],\n",
              "       ['B33', 'B33', 'B73'],\n",
              "       ['B24', 'B24', 'B64'],\n",
              "       ['S23', 'S23', 'S63'],\n",
              "       ['h2', 'h2', 'h8'],\n",
              "       ['B17', 'B17', 'B57'],\n",
              "       ['g6', 'g6', 'g1'],\n",
              "       ['S17', 'S17', 'S57'],\n",
              "       ['S28', 'S28', 'S68'],\n",
              "       ['08(1)', '08(1)', '01(1)'],\n",
              "       ['h6', 'h6', 'h1'],\n",
              "       ['B48', 'B48', 'B08'],\n",
              "       ['S45', 'S45', 'S05'],\n",
              "       ['h8', 'h8', 'h2'],\n",
              "       ['c6', 'c6', 'c3'],\n",
              "       ['B58', 'B58', 'B18'],\n",
              "       ['32', '32', '38'],\n",
              "       ['S01', 'S01', 'S41'],\n",
              "       ['S02', 'S02', 'S42'],\n",
              "       ['B45', 'B45', 'B05'],\n",
              "       ['B41', 'B41', 'B01'],\n",
              "       ['54(1)', '54(1)', '14(1)'],\n",
              "       ['d8', 'd8', 'd2'],\n",
              "       ['B73', 'B73', 'B33'],\n",
              "       ['B06', 'B06', 'B46'],\n",
              "       ['S12', 'S12', 'S52'],\n",
              "       ['58(1)', '58(1)', '56(1)'],\n",
              "       ['a4(1)', 'a4(1)', 'a3(1)'],\n",
              "       ['S44', 'S44', 'S04'],\n",
              "       ['f2', 'f2', 'f8'],\n",
              "       ['61', '61', '65'],\n",
              "       ['17(1)', '17(1)', '18(1)'],\n",
              "       ['S53', 'S53', 'S13'],\n",
              "       ['74(1)', '74(1)', '04(1)'],\n",
              "       ['65', '65', '64'],\n",
              "       ['S74', 'S74', 'S34'],\n",
              "       ['62', '62', '68'],\n",
              "       ['B66', 'B66', 'B26'],\n",
              "       ['34', '34', '33'],\n",
              "       ['S67', 'S67', 'S27'],\n",
              "       ['B76', 'B76', 'B36'],\n",
              "       ['f7', 'f7', 'f6'],\n",
              "       ['B47', 'B47', 'B07'],\n",
              "       ['S78', 'S78', 'S38'],\n",
              "       ['b6(1)', 'b6(1)', 'b3(1)'],\n",
              "       ['S07', 'S07', 'S47'],\n",
              "       ['55(1)', '55(1)', '17(1)'],\n",
              "       ['12(1)', '12(1)', '22(1)'],\n",
              "       ['S24', 'S24', 'S64'],\n",
              "       ['68', '68', '62'],\n",
              "       ['a1(1)', 'a1(1)', 'a2(1)'],\n",
              "       ['64', '64', '63'],\n",
              "       ['48(1)', '48(1)', '53(1)'],\n",
              "       ['B37', 'B37', 'B77'],\n",
              "       ['b3(1)', 'b3(1)', 'b6(1)'],\n",
              "       ['h5', 'h5', 'h4'],\n",
              "       ['52(1)', '52(1)', '17(1)'],\n",
              "       ['a5(1)', 'a5(1)', 'a4(1)'],\n",
              "       ['B43', 'B43', 'B03'],\n",
              "       ['B32', 'B32', 'B72'],\n",
              "       ['S73', 'S73', 'S33'],\n",
              "       ['S21', 'S21', 'S61'],\n",
              "       ['16(1)', '16(1)', '13(1)'],\n",
              "       ['S25', 'S25', 'S65'],\n",
              "       ['S33', 'S33', 'S73'],\n",
              "       ['37', '37', '36'],\n",
              "       ['B12', 'B12', 'B52'],\n",
              "       ['S35', 'S35', 'S75'],\n",
              "       ['02(1)', '02(1)', '52(1)'],\n",
              "       ['S41', 'S41', 'S01'],\n",
              "       ['S05', 'S05', 'S45'],\n",
              "       ['f6', 'f6', 'f1'],\n",
              "       ['B53', 'B53', 'B13'],\n",
              "       ['B07', 'B07', 'B47'],\n",
              "       ['S27', 'S27', 'S67'],\n",
              "       ['h7', 'h7', 'h6'],\n",
              "       ['S36', 'S36', 'S76'],\n",
              "       ['S62', 'S62', 'S22'],\n",
              "       ['S71', 'S71', 'S31'],\n",
              "       ['03(1)', '03(1)', '51(1)'],\n",
              "       ['B28', 'B28', 'B68'],\n",
              "       ['b2(1)', 'b2(1)', 'b8(1)'],\n",
              "       ['B01', 'B01', 'B41'],\n",
              "       ['B64', 'B64', 'B24'],\n",
              "       ['38', '38', '32'],\n",
              "       ['c8', 'c8', 'c2'],\n",
              "       ['S48', 'S48', 'S08'],\n",
              "       ['75(1)', '75(1)', '05(1)'],\n",
              "       ['e5', 'e5', 'e4'],\n",
              "       ['e8', 'e8', 'e2'],\n",
              "       ['S58', 'S58', 'S18'],\n",
              "       ['41(1)', '41(1)', '45(1)'],\n",
              "       ['S55', 'S55', 'S15'],\n",
              "       ['S46', 'S46', 'S06'],\n",
              "       ['d6', 'd6', 'd3'],\n",
              "       ['f5', 'f5', 'f4'],\n",
              "       ['B55', 'B55', 'B15'],\n",
              "       ['B57', 'B57', 'B17'],\n",
              "       ['78(1)', '78(1)', '02(1)'],\n",
              "       ['B22', 'B22', 'B62'],\n",
              "       ['B03', 'B03', 'B43'],\n",
              "       ['B74', 'B74', 'B34'],\n",
              "       ['S56', 'S56', 'S16'],\n",
              "       ['g2', 'g2', 'g8'],\n",
              "       ['S57', 'S57', 'S17'],\n",
              "       ['56(1)', '56(1)', '12(1)'],\n",
              "       ['22(1)', '22(1)', '71(1)'],\n",
              "       ['b7(1)', 'b7(1)', 'b6(1)'],\n",
              "       ['B72', 'B72', 'B32'],\n",
              "       ['B68', 'B68', 'B28'],\n",
              "       ['S03', 'S03', 'S43'],\n",
              "       ['27(1)', '27(1)', '28(1)'],\n",
              "       ['S26', 'S26', 'S66'],\n",
              "       ['d5', 'd5', 'd4'],\n",
              "       ['f1', 'f1', 'f5'],\n",
              "       ['B44', 'B44', 'B04'],\n",
              "       ['d2', 'd2', 'd8'],\n",
              "       ['d3', 'd3', 'd6'],\n",
              "       ['e3', 'e3', 'e6'],\n",
              "       ['d4', 'd4', 'd3'],\n",
              "       ['72(1)', '72(1)', '08(1)'],\n",
              "       ['B25', 'B25', 'B65'],\n",
              "       ['S04', 'S04', 'S44'],\n",
              "       ['B77', 'B77', 'B37'],\n",
              "       ['11(1)', '11(1)', '17(1)'],\n",
              "       ['e7', 'e7', 'e6'],\n",
              "       ['b8(1)', 'b8(1)', 'b2(1)'],\n",
              "       ['g1', 'g1', 'g5'],\n",
              "       ['S22', 'S22', 'S62'],\n",
              "       ['S31', 'S31', 'S71'],\n",
              "       ['S34', 'S34', 'S74'],\n",
              "       ['33', '33', '36'],\n",
              "       ['B61', 'B61', 'B21'],\n",
              "       ['04(1)', '04(1)', '54(1)'],\n",
              "       ['S08', 'S08', 'S48'],\n",
              "       ['a8(1)', 'a8(1)', 'a2(1)'],\n",
              "       ['S68', 'S68', 'S28'],\n",
              "       ['g4', 'g4', 'g3'],\n",
              "       ['S11', 'S11', 'S51'],\n",
              "       ['S72', 'S72', 'S32'],\n",
              "       ['c3', 'c3', 'c6'],\n",
              "       ['73(1)', '73(1)', '06(1)'],\n",
              "       ['e2', 'e2', 'e8'],\n",
              "       ['a7(1)', 'a7(1)', 'a5(1)'],\n",
              "       ['c1', 'c1', 'c2'],\n",
              "       ['S66', 'S66', 'S26'],\n",
              "       ['S42', 'S42', 'S02'],\n",
              "       ['S76', 'S76', 'S36'],\n",
              "       ['S64', 'S64', 'S24'],\n",
              "       ['B27', 'B27', 'B67'],\n",
              "       ['c7', 'c7', 'c5'],\n",
              "       ['B18', 'B18', 'B58'],\n",
              "       ['B23', 'B23', 'B63'],\n",
              "       ['14(1)', '14(1)', '15(1)'],\n",
              "       ['e1', 'e1', 'e5'],\n",
              "       ['S13', 'S13', 'S53'],\n",
              "       ['67', '67', '66'],\n",
              "       ['a2(1)', 'a2(1)', 'a8(1)'],\n",
              "       ['S18', 'S18', 'S58'],\n",
              "       ['B34', 'B34', 'B74'],\n",
              "       ['B63', 'B63', 'B23'],\n",
              "       ['g5', 'g5', 'g4'],\n",
              "       ['26(1)', '26(1)', '23(1)'],\n",
              "       ['35', '35', '34'],\n",
              "       ['B71', 'B71', 'B31'],\n",
              "       ['g8', 'g8', 'g2'],\n",
              "       ['S06', 'S06', 'S46'],\n",
              "       ['B38', 'B38', 'B78'],\n",
              "       ['S63', 'S63', 'S23'],\n",
              "       ['B21', 'B21', 'B61'],\n",
              "       ['15(1)', '15(1)', '11(1)'],\n",
              "       ['c4', 'c4', 'c3'],\n",
              "       ['B46', 'B46', 'B06'],\n",
              "       ['B08', 'B08', 'B48'],\n",
              "       ['S61', 'S61', 'S21'],\n",
              "       ['21(1)', '21(1)', '22(1)'],\n",
              "       ['f3', 'f3', 'f6'],\n",
              "       ['S15', 'S15', 'S55'],\n",
              "       ['18(1)', '18(1)', '16(1)'],\n",
              "       ['36', '36', '31'],\n",
              "       ['31', '31', '35'],\n",
              "       ['B67', 'B67', 'B27'],\n",
              "       ['S77', 'S77', 'S37'],\n",
              "       ['B31', 'B31', 'B71'],\n",
              "       ['46(1)', '46(1)', '16(1)'],\n",
              "       ['S38', 'S38', 'S78'],\n",
              "       ['g3', 'g3', 'g6'],\n",
              "       ['b1(1)', 'b1(1)', 'b2(1)']], dtype=object)"
            ]
          },
          "execution_count": 65,
          "metadata": {},
          "output_type": "execute_result"
        }
      ],
      "source": [
        "#training_generator.list_IDs"
      ]
    },
    {
      "cell_type": "code",
      "execution_count": null,
      "metadata": {
        "colab": {
          "base_uri": "https://localhost:8080/"
        },
        "id": "TOSHKfvEaWrM",
        "outputId": "cf6ed4e9-99e9-4b0c-cf2f-df23e0094f57"
      },
      "outputs": [
        {
          "data": {
            "text/plain": [
              "array([['h3', 'h3', 'h6'],\n",
              "       ['05(1)', '05(1)', '55(1)'],\n",
              "       ['43(1)', '43(1)', '44(1)'],\n",
              "       ['b5(1)', 'b5(1)', 'b2(1)'],\n",
              "       ['S54', 'S54', 'S14'],\n",
              "       ['d1', 'd1', 'd2'],\n",
              "       ['B78', 'B78', 'B38'],\n",
              "       ['b4(1)', 'b4(1)', 'b3(1)'],\n",
              "       ['57(1)', '57(1)', '58(1)'],\n",
              "       ['h4', 'h4', 'h3'],\n",
              "       ['28(1)', '28(1)', '26(1)'],\n",
              "       ['S43', 'S43', 'S03'],\n",
              "       ['B16', 'B16', 'B56'],\n",
              "       ['g7', 'g7', 'g6'],\n",
              "       ['71(1)', '71(1)', '72(1)'],\n",
              "       ['B36', 'B36', 'B76'],\n",
              "       ['13(1)', '13(1)', '14(1)'],\n",
              "       ['c2', 'c2', 'c8'],\n",
              "       ['B35', 'B35', 'B75'],\n",
              "       ['B13', 'B13', 'B53'],\n",
              "       ['B54', 'B54', 'B14'],\n",
              "       ['d7', 'd7', 'd1'],\n",
              "       ['B04', 'B04', 'B44'],\n",
              "       ['01(1)', '01(1)', '43(1)'],\n",
              "       ['f8', 'f8', 'f2'],\n",
              "       ['B56', 'B56', 'B16'],\n",
              "       ['63', '63', '66'],\n",
              "       ['S16', 'S16', 'S56'],\n",
              "       ['B52', 'B52', 'B12'],\n",
              "       ['B11', 'B11', 'B51'],\n",
              "       ['07(1)', '07(1)', '53(1)'],\n",
              "       ['B65', 'B65', 'B25'],\n",
              "       ['B62', 'B62', 'B22'],\n",
              "       ['B42', 'B42', 'B02'],\n",
              "       ['h1', 'h1', 'h5'],\n",
              "       ['e6', 'e6', 'e1'],\n",
              "       ['f4', 'f4', 'f3'],\n",
              "       ['B14', 'B14', 'B54'],\n",
              "       ['66', '66', '61'],\n",
              "       ['S32', 'S32', 'S72'],\n",
              "       ['e4', 'e4', 'e3'],\n",
              "       ['a6(1)', 'a6(1)', 'a3(1)'],\n",
              "       ['B15', 'B15', 'B55'],\n",
              "       ['S14', 'S14', 'S54'],\n",
              "       ['c5', 'c5', 'c3'],\n",
              "       ['53(1)', '53(1)', '12(1)'],\n",
              "       ['47(1)', '47(1)', '42(1)'],\n",
              "       ['24(1)', '24(1)', '75(1)'],\n",
              "       ['B75', 'B75', 'B35'],\n",
              "       ['a3(1)', 'a3(1)', 'a6(1)'],\n",
              "       ['S75', 'S75', 'S35'],\n",
              "       ['S65', 'S65', 'S25']], dtype=object)"
            ]
          },
          "execution_count": 66,
          "metadata": {},
          "output_type": "execute_result"
        }
      ],
      "source": [
        "#validation_generator.list_IDs"
      ]
    },
    {
      "cell_type": "code",
      "execution_count": null,
      "metadata": {
        "colab": {
          "base_uri": "https://localhost:8080/"
        },
        "id": "3mXME9ZqalWo",
        "outputId": "0c006a7e-ab61-4e4e-fac0-e2ebb91e5bb7"
      },
      "outputs": [
        {
          "data": {
            "text/plain": [
              "array([['01(1)', '01(1)', '43(1)'],\n",
              "       ['02(1)', '02(1)', '52(1)'],\n",
              "       ['03(1)', '03(1)', '51(1)'],\n",
              "       ['04(1)', '04(1)', '54(1)'],\n",
              "       ['05(1)', '05(1)', '55(1)'],\n",
              "       ['06(1)', '06(1)', '51(1)'],\n",
              "       ['07(1)', '07(1)', '53(1)'],\n",
              "       ['08(1)', '08(1)', '01(1)'],\n",
              "       ['11(1)', '11(1)', '17(1)'],\n",
              "       ['12(1)', '12(1)', '22(1)'],\n",
              "       ['13(1)', '13(1)', '14(1)'],\n",
              "       ['14(1)', '14(1)', '15(1)'],\n",
              "       ['15(1)', '15(1)', '11(1)'],\n",
              "       ['16(1)', '16(1)', '13(1)'],\n",
              "       ['17(1)', '17(1)', '18(1)'],\n",
              "       ['18(1)', '18(1)', '16(1)'],\n",
              "       ['21(1)', '21(1)', '22(1)'],\n",
              "       ['22(1)', '22(1)', '71(1)'],\n",
              "       ['23(1)', '23(1)', '74(1)'],\n",
              "       ['24(1)', '24(1)', '75(1)'],\n",
              "       ['25(1)', '25(1)', '71(1)'],\n",
              "       ['26(1)', '26(1)', '23(1)'],\n",
              "       ['27(1)', '27(1)', '28(1)'],\n",
              "       ['28(1)', '28(1)', '26(1)'],\n",
              "       ['31', '31', '35'],\n",
              "       ['32', '32', '38'],\n",
              "       ['33', '33', '36'],\n",
              "       ['34', '34', '33'],\n",
              "       ['35', '35', '34'],\n",
              "       ['36', '36', '31'],\n",
              "       ['37', '37', '36'],\n",
              "       ['38', '38', '32'],\n",
              "       ['41(1)', '41(1)', '45(1)'],\n",
              "       ['42(1)', '42(1)', '48(1)'],\n",
              "       ['43(1)', '43(1)', '44(1)'],\n",
              "       ['44(1)', '44(1)', '47(1)'],\n",
              "       ['45(1)', '45(1)', '41(1)'],\n",
              "       ['46(1)', '46(1)', '16(1)'],\n",
              "       ['47(1)', '47(1)', '42(1)'],\n",
              "       ['48(1)', '48(1)', '53(1)'],\n",
              "       ['51(1)', '51(1)', '01(1)'],\n",
              "       ['52(1)', '52(1)', '17(1)'],\n",
              "       ['53(1)', '53(1)', '12(1)'],\n",
              "       ['54(1)', '54(1)', '14(1)'],\n",
              "       ['55(1)', '55(1)', '17(1)'],\n",
              "       ['56(1)', '56(1)', '12(1)'],\n",
              "       ['57(1)', '57(1)', '58(1)'],\n",
              "       ['58(1)', '58(1)', '56(1)'],\n",
              "       ['61', '61', '65'],\n",
              "       ['62', '62', '68'],\n",
              "       ['63', '63', '66'],\n",
              "       ['64', '64', '63'],\n",
              "       ['65', '65', '64'],\n",
              "       ['66', '66', '61'],\n",
              "       ['67', '67', '66'],\n",
              "       ['68', '68', '62'],\n",
              "       ['71(1)', '71(1)', '72(1)'],\n",
              "       ['72(1)', '72(1)', '08(1)'],\n",
              "       ['73(1)', '73(1)', '06(1)'],\n",
              "       ['74(1)', '74(1)', '04(1)'],\n",
              "       ['75(1)', '75(1)', '05(1)'],\n",
              "       ['76(1)', '76(1)', '03(1)'],\n",
              "       ['77(1)', '77(1)', '07(1)'],\n",
              "       ['78(1)', '78(1)', '02(1)'],\n",
              "       ['a1(1)', 'a1(1)', 'a2(1)'],\n",
              "       ['a2(1)', 'a2(1)', 'a8(1)'],\n",
              "       ['a3(1)', 'a3(1)', 'a6(1)'],\n",
              "       ['a4(1)', 'a4(1)', 'a3(1)'],\n",
              "       ['a5(1)', 'a5(1)', 'a4(1)'],\n",
              "       ['a6(1)', 'a6(1)', 'a3(1)'],\n",
              "       ['a7(1)', 'a7(1)', 'a5(1)'],\n",
              "       ['a8(1)', 'a8(1)', 'a2(1)'],\n",
              "       ['b1(1)', 'b1(1)', 'b2(1)'],\n",
              "       ['b2(1)', 'b2(1)', 'b8(1)'],\n",
              "       ['b3(1)', 'b3(1)', 'b6(1)'],\n",
              "       ['b4(1)', 'b4(1)', 'b3(1)'],\n",
              "       ['b5(1)', 'b5(1)', 'b2(1)'],\n",
              "       ['b6(1)', 'b6(1)', 'b3(1)'],\n",
              "       ['b7(1)', 'b7(1)', 'b6(1)'],\n",
              "       ['b8(1)', 'b8(1)', 'b2(1)'],\n",
              "       ['c1', 'c1', 'c2'],\n",
              "       ['c2', 'c2', 'c8'],\n",
              "       ['c3', 'c3', 'c6'],\n",
              "       ['c4', 'c4', 'c3'],\n",
              "       ['c5', 'c5', 'c3'],\n",
              "       ['c6', 'c6', 'c3'],\n",
              "       ['c7', 'c7', 'c5'],\n",
              "       ['c8', 'c8', 'c2'],\n",
              "       ['d1', 'd1', 'd2'],\n",
              "       ['d2', 'd2', 'd8'],\n",
              "       ['d3', 'd3', 'd6'],\n",
              "       ['d4', 'd4', 'd3'],\n",
              "       ['d5', 'd5', 'd4'],\n",
              "       ['d6', 'd6', 'd3'],\n",
              "       ['d7', 'd7', 'd1'],\n",
              "       ['d8', 'd8', 'd2'],\n",
              "       ['e1', 'e1', 'e5'],\n",
              "       ['e2', 'e2', 'e8'],\n",
              "       ['e3', 'e3', 'e6'],\n",
              "       ['e4', 'e4', 'e3'],\n",
              "       ['e5', 'e5', 'e4'],\n",
              "       ['e6', 'e6', 'e1'],\n",
              "       ['e7', 'e7', 'e6'],\n",
              "       ['e8', 'e8', 'e2'],\n",
              "       ['f1', 'f1', 'f5'],\n",
              "       ['f2', 'f2', 'f8'],\n",
              "       ['f3', 'f3', 'f6'],\n",
              "       ['f4', 'f4', 'f3'],\n",
              "       ['f5', 'f5', 'f4'],\n",
              "       ['f6', 'f6', 'f1'],\n",
              "       ['f7', 'f7', 'f6'],\n",
              "       ['f8', 'f8', 'f2'],\n",
              "       ['g1', 'g1', 'g5'],\n",
              "       ['g2', 'g2', 'g8'],\n",
              "       ['g3', 'g3', 'g6'],\n",
              "       ['g4', 'g4', 'g3'],\n",
              "       ['g5', 'g5', 'g4'],\n",
              "       ['g6', 'g6', 'g1'],\n",
              "       ['g7', 'g7', 'g6'],\n",
              "       ['g8', 'g8', 'g2'],\n",
              "       ['h1', 'h1', 'h5'],\n",
              "       ['h2', 'h2', 'h8'],\n",
              "       ['h3', 'h3', 'h6'],\n",
              "       ['h4', 'h4', 'h3'],\n",
              "       ['h5', 'h5', 'h4'],\n",
              "       ['h6', 'h6', 'h1'],\n",
              "       ['h7', 'h7', 'h6'],\n",
              "       ['h8', 'h8', 'h2'],\n",
              "       ['S01', 'S01', 'S41'],\n",
              "       ['S02', 'S02', 'S42'],\n",
              "       ['S03', 'S03', 'S43'],\n",
              "       ['S04', 'S04', 'S44'],\n",
              "       ['S05', 'S05', 'S45'],\n",
              "       ['S06', 'S06', 'S46'],\n",
              "       ['S07', 'S07', 'S47'],\n",
              "       ['S08', 'S08', 'S48'],\n",
              "       ['S11', 'S11', 'S51'],\n",
              "       ['S12', 'S12', 'S52'],\n",
              "       ['S13', 'S13', 'S53'],\n",
              "       ['S14', 'S14', 'S54'],\n",
              "       ['S15', 'S15', 'S55'],\n",
              "       ['S16', 'S16', 'S56'],\n",
              "       ['S17', 'S17', 'S57'],\n",
              "       ['S18', 'S18', 'S58'],\n",
              "       ['S21', 'S21', 'S61'],\n",
              "       ['S22', 'S22', 'S62'],\n",
              "       ['S23', 'S23', 'S63'],\n",
              "       ['S24', 'S24', 'S64'],\n",
              "       ['S25', 'S25', 'S65'],\n",
              "       ['S26', 'S26', 'S66'],\n",
              "       ['S27', 'S27', 'S67'],\n",
              "       ['S28', 'S28', 'S68'],\n",
              "       ['S31', 'S31', 'S71'],\n",
              "       ['S32', 'S32', 'S72'],\n",
              "       ['S33', 'S33', 'S73'],\n",
              "       ['S34', 'S34', 'S74'],\n",
              "       ['S35', 'S35', 'S75'],\n",
              "       ['S36', 'S36', 'S76'],\n",
              "       ['S37', 'S37', 'S77'],\n",
              "       ['S38', 'S38', 'S78'],\n",
              "       ['S41', 'S41', 'S01'],\n",
              "       ['S42', 'S42', 'S02'],\n",
              "       ['S43', 'S43', 'S03'],\n",
              "       ['S44', 'S44', 'S04'],\n",
              "       ['S45', 'S45', 'S05'],\n",
              "       ['S46', 'S46', 'S06'],\n",
              "       ['S47', 'S47', 'S07'],\n",
              "       ['S48', 'S48', 'S08'],\n",
              "       ['S51', 'S51', 'S11'],\n",
              "       ['S52', 'S52', 'S12'],\n",
              "       ['S53', 'S53', 'S13'],\n",
              "       ['S54', 'S54', 'S14'],\n",
              "       ['S55', 'S55', 'S15'],\n",
              "       ['S56', 'S56', 'S16'],\n",
              "       ['S57', 'S57', 'S17'],\n",
              "       ['S58', 'S58', 'S18'],\n",
              "       ['S61', 'S61', 'S21'],\n",
              "       ['S62', 'S62', 'S22'],\n",
              "       ['S63', 'S63', 'S23'],\n",
              "       ['S64', 'S64', 'S24'],\n",
              "       ['S65', 'S65', 'S25'],\n",
              "       ['S66', 'S66', 'S26'],\n",
              "       ['S67', 'S67', 'S27'],\n",
              "       ['S68', 'S68', 'S28'],\n",
              "       ['S71', 'S71', 'S31'],\n",
              "       ['S72', 'S72', 'S32'],\n",
              "       ['S73', 'S73', 'S33'],\n",
              "       ['S74', 'S74', 'S34'],\n",
              "       ['S75', 'S75', 'S35'],\n",
              "       ['S76', 'S76', 'S36'],\n",
              "       ['S77', 'S77', 'S37'],\n",
              "       ['S78', 'S78', 'S38'],\n",
              "       ['B01', 'B01', 'B41'],\n",
              "       ['B02', 'B02', 'B42'],\n",
              "       ['B03', 'B03', 'B43'],\n",
              "       ['B04', 'B04', 'B44'],\n",
              "       ['B05', 'B05', 'B45'],\n",
              "       ['B06', 'B06', 'B46'],\n",
              "       ['B07', 'B07', 'B47'],\n",
              "       ['B08', 'B08', 'B48'],\n",
              "       ['B11', 'B11', 'B51'],\n",
              "       ['B12', 'B12', 'B52'],\n",
              "       ['B13', 'B13', 'B53'],\n",
              "       ['B14', 'B14', 'B54'],\n",
              "       ['B15', 'B15', 'B55'],\n",
              "       ['B16', 'B16', 'B56'],\n",
              "       ['B17', 'B17', 'B57'],\n",
              "       ['B18', 'B18', 'B58'],\n",
              "       ['B21', 'B21', 'B61'],\n",
              "       ['B22', 'B22', 'B62'],\n",
              "       ['B23', 'B23', 'B63'],\n",
              "       ['B24', 'B24', 'B64'],\n",
              "       ['B25', 'B25', 'B65'],\n",
              "       ['B26', 'B26', 'B66'],\n",
              "       ['B27', 'B27', 'B67'],\n",
              "       ['B28', 'B28', 'B68'],\n",
              "       ['B31', 'B31', 'B71'],\n",
              "       ['B32', 'B32', 'B72'],\n",
              "       ['B33', 'B33', 'B73'],\n",
              "       ['B34', 'B34', 'B74'],\n",
              "       ['B35', 'B35', 'B75'],\n",
              "       ['B36', 'B36', 'B76'],\n",
              "       ['B37', 'B37', 'B77'],\n",
              "       ['B38', 'B38', 'B78'],\n",
              "       ['B41', 'B41', 'B01'],\n",
              "       ['B42', 'B42', 'B02'],\n",
              "       ['B43', 'B43', 'B03'],\n",
              "       ['B44', 'B44', 'B04'],\n",
              "       ['B45', 'B45', 'B05'],\n",
              "       ['B46', 'B46', 'B06'],\n",
              "       ['B47', 'B47', 'B07'],\n",
              "       ['B48', 'B48', 'B08'],\n",
              "       ['B51', 'B51', 'B11'],\n",
              "       ['B52', 'B52', 'B12'],\n",
              "       ['B53', 'B53', 'B13'],\n",
              "       ['B54', 'B54', 'B14'],\n",
              "       ['B55', 'B55', 'B15'],\n",
              "       ['B56', 'B56', 'B16'],\n",
              "       ['B57', 'B57', 'B17'],\n",
              "       ['B58', 'B58', 'B18'],\n",
              "       ['B61', 'B61', 'B21'],\n",
              "       ['B62', 'B62', 'B22'],\n",
              "       ['B63', 'B63', 'B23'],\n",
              "       ['B64', 'B64', 'B24'],\n",
              "       ['B65', 'B65', 'B25'],\n",
              "       ['B66', 'B66', 'B26'],\n",
              "       ['B67', 'B67', 'B27'],\n",
              "       ['B68', 'B68', 'B28'],\n",
              "       ['B71', 'B71', 'B31'],\n",
              "       ['B72', 'B72', 'B32'],\n",
              "       ['B73', 'B73', 'B33'],\n",
              "       ['B74', 'B74', 'B34'],\n",
              "       ['B75', 'B75', 'B35'],\n",
              "       ['B76', 'B76', 'B36'],\n",
              "       ['B77', 'B77', 'B37'],\n",
              "       ['B78', 'B78', 'B38']], dtype=object)"
            ]
          },
          "execution_count": 67,
          "metadata": {},
          "output_type": "execute_result"
        }
      ],
      "source": [
        "#testing_generator.list_IDs"
      ]
    },
    {
      "cell_type": "markdown",
      "metadata": {
        "id": "5pneUq8AekCk"
      },
      "source": [
        "### Losses 重点"
      ]
    },
    {
      "cell_type": "code",
      "execution_count": null,
      "metadata": {
        "id": "UY76FHc4Utxf"
      },
      "outputs": [],
      "source": []
    },
    {
      "cell_type": "code",
      "execution_count": null,
      "metadata": {
        "id": "WvxA0PfeQyBP"
      },
      "outputs": [],
      "source": [
        "loss_p = 2 # 1, 2 or cosine（余弦）\n",
        "metric_p = 2 # 1, 2 or cosine\n",
        "\n",
        "#定义损失函数(实际值，预测值，，)\n",
        "def triplet_loss(y_true, y_pred, alpha=0.9, p=loss_p):\n",
        "  \n",
        "    total_length = y_pred.shape.as_list()[-1] #取出预测值的\n",
        "    anc = y_pred[:, 0:int(total_length*1/3)] #基准\n",
        "    pos = y_pred[:, int(total_length*1/3):int(total_length*2/3)] #正例\n",
        "    neg = y_pred[:, int(total_length*2/3):int(total_length*3/3)] #负例\n",
        "    \n",
        "    # 欧式距离（L2范数）\n",
        "    pos_dist = K.sum(K.square(anc - pos), axis=-1, keepdims=True)#正例的距离\n",
        "    neg_dist = K.sum(K.square(anc - neg), axis=-1, keepdims=True)#负例的距离\n",
        "    basic_loss = pos_dist - neg_dist + alpha \n",
        "    #alpha margin参数 拉大了Anchor和Positive图片对和Anchor与Negative 图片对之间的差距\n",
        "    #margin是一个常数。\n",
        "    loss = K.maximum(basic_loss, 0.0)\n",
        "\n",
        "    #print \"[INFO] model - triplet_loss shape: %s\" % str(loss.shape)\n",
        "    return loss\n",
        "\n",
        "    #if p == 1:\n",
        "        #pos_dist = tf.keras.backend.mean(tf.keras.backend.abs(anc - pos))\n",
        "        #neg_dist = tf.keras.backend.mean(tf.keras.backend.abs(anc - neg))\n",
        "        #basic_loss = pos_dist - neg_dist + alpha\n",
        "        #loss = tf.keras.backend.maximum(basic_loss, 0.0)\n",
        "        #return loss\n",
        "    #elif p == 'cosine':\n",
        "        #distance1 = tf.keras.losses.cosine_similarity(anc, pos)\n",
        "        #distance2 = tf.keras.losses.cosine_similarity(anc, neg)\n",
        "        #loss = tf.keras.backend.maximum(distance1 - distance2 + alpha, 0.0)\n",
        "        #return loss\n",
        "    #else:\n",
        "        #assert p == 2, 'p can be 1, 2 or cosine'\n",
        "        #pos_dist = tf.keras.backend.mean(tf.keras.backend.square(anc - pos))\n",
        "        #neg_dist = tf.keras.backend.mean(tf.keras.backend.square(anc- neg))\n",
        "        #basic_loss = pos_dist - neg_dist + alpha\n",
        "        #loss = tf.keras.backend.maximum(basic_loss, 0.0)\n",
        "        #return loss\n",
        "\n",
        "#计算准确度的函数()\n",
        "#y_true 是结果集，y_pred 是预测集\n",
        "def accuracy(y_true, y_pred, p=metric_p,alpha=0.9):\n",
        "    total_length = y_pred.shape.as_list()[-1]\n",
        "    anchor = y_pred[:, 0:int(total_length*1/3)]\n",
        "    positive = y_pred[:, int(total_length*1/3):int(total_length*2/3)]\n",
        "    negative = y_pred[:, int(total_length*2/3):int(total_length*3/3)]\n",
        "\n",
        "    if p == 1 or p == 2:\n",
        "    #pos_dist = K.sum(K.square(anchor - positive), axis=-1, keepdims=True)\n",
        "    #neg_dist = K.sum(K.square(anchor - negative), axis=-1, keepdims=True)\n",
        "        pos_dist = tf.linalg.norm((anchor - positive), ord=p, axis=1) \n",
        "        neg_dist = tf.linalg.norm((anchor - negative), ord=p, axis=1)\n",
        "    #else:\n",
        "        #normalize_a = tf.math.l2_normalize(anchor, axis=1)\n",
        "        #normalize_b = tf.math.l2_normalize(positive, axis=1)        \n",
        "        #normalize_c = tf.math.l2_normalize(negative, axis=1)        \n",
        "        #pos_dist = -tf.matmul(normalize_a, normalize_b, transpose_b=True)\n",
        "        #neg_dist = -tf.matmul(normalize_a, normalize_c, transpose_b=True)\n",
        "    \n",
        "    preds = tf.cast(np.float(pos_dist<alpha)*0.25+np.float(neg_dist>alpha)*0.75, tf.float32)\n",
        "    #labels = tf.cast(pos_dist < neg_dist, tf.float32) #数据类型转换\n",
        "    #labels = tf.cast(preds>0.7, tf.float32)\n",
        "    acc = tf.keras.metrics.binary_accuracy(y_true, preds)\n",
        "\n",
        "    return acc\n",
        "\n",
        "def seed(seed=643):\n",
        "    np.random.seed(seed)\n",
        "    tf.random.set_seed(seed)"
      ]
    },
    {
      "cell_type": "markdown",
      "metadata": {
        "id": "gD7ztBOtd44j"
      },
      "source": [
        "[(5条消息) tf.keras.metrics.BinaryAccuracy函数_不负韶华ღ的博客-CSDN博客](https://blog.csdn.net/weixin_49346755/article/details/124524923)\n",
        "\n",
        "BinaryAccuracy函数用于计算二分类问题的准确率。\n",
        "\n",
        "binary_accuracy的计算除了y_true和y_pred外，还有一个threshold参数，该参数默认为0.5。比如有6个样本，其y_true为[0, 0, 0, 1, 1, 0]，y_pred为[0.2, 0.3, 0.6, 0.7, 0.8, 0.1]，那么其binary_accuracy=5/6=87.5%。\n",
        "\n",
        "具体计算方法为：\n",
        "1）将y_pred中的每个预测值和threshold对比，大于threshold的设为1，小于等于threshold的设为0，得到y_pred_new=[0, 0, 1, 1, 1, 0]；\n",
        "2）将y_true和y_pred_new代入到2.1中计算得到最终的binary_accuracy=87.5%。\n"
      ]
    },
    {
      "cell_type": "markdown",
      "metadata": {
        "id": "o3TTm-JImBoq"
      },
      "source": [
        "### Train Final Layer"
      ]
    },
    {
      "cell_type": "markdown",
      "metadata": {
        "id": "4dX3yRE32i9E"
      },
      "source": [
        "训练最后一层"
      ]
    },
    {
      "cell_type": "code",
      "execution_count": null,
      "metadata": {
        "id": "WMsUB0Qk6ZNr"
      },
      "outputs": [],
      "source": [
        "encoding_size = 20\n",
        "input_dim = 2048\n",
        "\n",
        "#设置优化器\n",
        "opt = tf.keras.optimizers.Adam(learning_rate=0.0001, beta_1=0.9, beta_2=0.999)\n",
        "\n",
        "seed()\n",
        "#l2_normalize函数\n",
        "#tf.nn.l2_normalize(x, dim, epsilon=1e-12, name=None)\n",
        "#解释：这个函数的作用是利用 L2 范数对指定维度 dim 进行标准化。\n",
        "class L2Normalize(tf.keras.layers.Layer):\n",
        "    def __init__(self, axis=1):\n",
        "        super(L2Normalize, self).__init__()\n",
        "        self.axis = axis\n",
        "    def call(self, inputs):\n",
        "        return tf.keras.backend.l2_normalize(inputs, axis=self.axis)\n",
        "#特征提取\n",
        "#我们的任务不是分类任务，因此我们不使用完整的 ResNet-50 架构。\n",
        "#ResNet-50 直到倒数第二层（'avg_pool' 层）用于特征提取（基础模型），这是在 ImageNet 数据集上预训练的。\n",
        "base_model = ResNet50(weights='imagenet') \n",
        "last_layer = base_model.get_layer('avg_pool')\n",
        "\n",
        "x = last_layer.output\n",
        "x = tf.keras.layers.Dropout(0.2)(x) \n",
        "#防止过拟合，tf.keras.layers.Dropout可以按照一定频率，随机地将输入的中的一些节点数值设置为0，防止过拟合。\n",
        "\n",
        "x = tf.keras.layers.Dense(input_dim//2, activation='relu')(x)\n",
        "x = tf.keras.layers.Dropout(0.25)(x)\n",
        "out = tf.keras.layers.Dense(encoding_size)(x)\n",
        "out = L2Normalize(axis=1)(out)\n",
        "\n",
        "for layer in base_model.layers:\n",
        "    layer.trainable = False\n",
        "Net = tf.keras.Model(base_model.input, out)    \n",
        "\n",
        "#正例\n",
        "anchor_input = tf.keras.layers.Input((224, 224, 3), name='anchor_input')\n",
        "positive_input = tf.keras.layers.Input((224, 224, 3), name='positive_input')\n",
        "negative_input = tf.keras.layers.Input((224, 224, 3), name='negative_input')\n",
        "\n",
        "encoded_anchor = Net(anchor_input)\n",
        "encoded_positive = Net(positive_input)\n",
        "encoded_negative = Net(negative_input)\n",
        "merged_vector = tf.keras.layers.concatenate([encoded_anchor, encoded_positive, encoded_negative], axis=-1, name='merged_layer')\n"
      ]
    },
    {
      "cell_type": "code",
      "execution_count": null,
      "metadata": {
        "colab": {
          "base_uri": "https://localhost:8080/"
        },
        "id": "PQpRqY6OcptO",
        "outputId": "52b96638-19fd-4ae2-bb67-5428da11bfd3"
      },
      "outputs": [
        {
          "data": {
            "text/plain": [
              "<KerasTensor: shape=(None, 224, 224, 3) dtype=float32 (created by layer 'anchor_input')>"
            ]
          },
          "execution_count": 70,
          "metadata": {},
          "output_type": "execute_result"
        }
      ],
      "source": [
        "anchor_input"
      ]
    },
    {
      "cell_type": "code",
      "execution_count": null,
      "metadata": {
        "colab": {
          "base_uri": "https://localhost:8080/"
        },
        "id": "AU5T19kZS8Gr",
        "outputId": "3f260c6d-9072-48cb-debe-c14c55a20531"
      },
      "outputs": [
        {
          "name": "stdout",
          "output_type": "stream",
          "text": [
            "Model: \"model_7\"\n",
            "__________________________________________________________________________________________________\n",
            " Layer (type)                   Output Shape         Param #     Connected to                     \n",
            "==================================================================================================\n",
            " anchor_input (InputLayer)      [(None, 224, 224, 3  0           []                               \n",
            "                                )]                                                                \n",
            "                                                                                                  \n",
            " positive_input (InputLayer)    [(None, 224, 224, 3  0           []                               \n",
            "                                )]                                                                \n",
            "                                                                                                  \n",
            " negative_input (InputLayer)    [(None, 224, 224, 3  0           []                               \n",
            "                                )]                                                                \n",
            "                                                                                                  \n",
            " model_6 (Functional)           (None, 20)           25706388    ['anchor_input[0][0]',           \n",
            "                                                                  'positive_input[0][0]',         \n",
            "                                                                  'negative_input[0][0]']         \n",
            "                                                                                                  \n",
            " merged_layer (Concatenate)     (None, 60)           0           ['model_6[0][0]',                \n",
            "                                                                  'model_6[1][0]',                \n",
            "                                                                  'model_6[2][0]']                \n",
            "                                                                                                  \n",
            "==================================================================================================\n",
            "Total params: 25,706,388\n",
            "Trainable params: 2,118,676\n",
            "Non-trainable params: 23,587,712\n",
            "__________________________________________________________________________________________________\n"
          ]
        }
      ],
      "source": [
        "#加载模型\n",
        "model = tf.keras.Model(inputs=[anchor_input, positive_input, negative_input], outputs=merged_vector)\n",
        "model.compile(loss=triplet_loss, optimizer=opt, metrics=[accuracy])\n",
        "#model.compile()方法用于在配置训练方法时，告知训练时用的优化器、损失函数和准确率评测标准\n",
        "#使用keras构建深度学习模型，我们会通过model.summary()输出模型各层的参数状况\n",
        "model.summary()"
      ]
    },
    {
      "cell_type": "markdown",
      "metadata": {
        "id": "TpxuoujrEZVb"
      },
      "source": [
        "`KeyError Traceback (most recent call last)`\n",
        "回溯（最近的一次呼叫）\n",
        "\n",
        "这里表示您的Python程序出现了异常，括号中通俗的解释就是代码中引发异常的位置。"
      ]
    },
    {
      "cell_type": "markdown",
      "metadata": {
        "id": "9zpxdZYIT2Xo"
      },
      "source": [
        "model.fit()方法用于执行训练过程\n",
        "\n",
        "```\n",
        "#第五步，model.fit()\n",
        "model.fit(  #使用model.fit()方法来执行训练过程，\n",
        "    x_train, y_train, #告知训练集的输入以及标签，\n",
        "    batch_size = 32, #每一批batch的大小为32，\n",
        "    epochs = 500, #迭代次数epochs为500\n",
        "    validation_data = (测试集的输入特征，测试集的标签）\n",
        "    validation_split = 0.2, #从测试集中划分80%给训练集\n",
        "    validation_freq = 20 #测试的间隔次数为20\n",
        "```\n",
        "[(5条消息) tensorflow中model.fit()用法_yunfeather的博客-CSDN博客](https://blog.csdn.net/yunfeather/article/details/106463327)"
      ]
    },
    {
      "cell_type": "code",
      "execution_count": null,
      "metadata": {
        "colab": {
          "background_save": true,
          "base_uri": "https://localhost:8080/"
        },
        "id": "zs-Qal3t-EZ3",
        "outputId": "6bf6e148-8328-44bd-c123-ec8978c9b8d4"
      },
      "outputs": [
        {
          "name": "stdout",
          "output_type": "stream",
          "text": [
            "Epoch 1/300\n"
          ]
        },
        {
          "name": "stderr",
          "output_type": "stream",
          "text": [
            "/tmp/__autograph_generated_file634ni2he.py:33: DeprecationWarning: `np.float` is a deprecated alias for the builtin `float`. To silence this warning, use `float` by itself. Doing this will not modify any behavior and is safe. If you specifically wanted the numpy scalar type, use `np.float64` here.\n",
            "Deprecated in NumPy 1.20; for more details and guidance: https://numpy.org/devdocs/release/1.20.0-notes.html#deprecations\n",
            "  preds = ag__.converted_call(ag__.ld(tf).cast, (ag__.converted_call(ag__.ld(np).float, (ag__.ld(pos_dist) < ag__.ld(alpha),), None, fscope) * 0.25 + ag__.converted_call(ag__.ld(np).float, (ag__.ld(neg_dist) > ag__.ld(alpha),), None, fscope) * 0.75, ag__.ld(tf).float32), None, fscope)\n"
          ]
        },
        {
          "name": "stdout",
          "output_type": "stream",
          "text": [
            "4/4 [==============================] - 210s 45s/step - loss: 0.8205 - accuracy: 0.6250 - val_loss: 0.6912 - val_accuracy: 0.0192\n",
            "Epoch 2/300\n",
            "4/4 [==============================] - 167s 43s/step - loss: 0.8104 - accuracy: 0.8698 - val_loss: 0.6443 - val_accuracy: 0.0192\n",
            "Epoch 3/300\n",
            "4/4 [==============================] - 165s 42s/step - loss: 0.7857 - accuracy: 0.8763 - val_loss: 0.6191 - val_accuracy: 0.0385\n",
            "Epoch 4/300\n",
            "4/4 [==============================] - 162s 39s/step - loss: 0.7556 - accuracy: 0.9206 - val_loss: 0.6080 - val_accuracy: 0.0385\n",
            "Epoch 5/300\n",
            "4/4 [==============================] - 156s 39s/step - loss: 0.7098 - accuracy: 0.9089 - val_loss: 0.5769 - val_accuracy: 0.0769\n",
            "Epoch 6/300\n",
            "4/4 [==============================] - 163s 42s/step - loss: 0.7039 - accuracy: 0.9219 - val_loss: 0.5525 - val_accuracy: 0.1346\n",
            "Epoch 7/300\n",
            "4/4 [==============================] - 173s 55s/step - loss: 0.6532 - accuracy: 0.9375 - val_loss: 0.5224 - val_accuracy: 0.1538\n",
            "Epoch 8/300\n",
            "4/4 [==============================] - 158s 50s/step - loss: 0.6564 - accuracy: 0.9206 - val_loss: 0.4633 - val_accuracy: 0.1731\n",
            "Epoch 9/300\n",
            "4/4 [==============================] - 157s 39s/step - loss: 0.6367 - accuracy: 0.9492 - val_loss: 0.3701 - val_accuracy: 0.2308\n",
            "Epoch 10/300\n",
            "4/4 [==============================] - 173s 44s/step - loss: 0.6637 - accuracy: 0.9805 - val_loss: 0.2967 - val_accuracy: 0.3846\n",
            "Epoch 11/300\n",
            "4/4 [==============================] - 156s 38s/step - loss: 0.6016 - accuracy: 0.9805 - val_loss: 0.2829 - val_accuracy: 0.4423\n",
            "Epoch 12/300\n",
            "4/4 [==============================] - 156s 39s/step - loss: 0.5288 - accuracy: 0.9766 - val_loss: 0.3053 - val_accuracy: 0.3846\n",
            "Epoch 13/300\n",
            "4/4 [==============================] - 156s 39s/step - loss: 0.5530 - accuracy: 0.9648 - val_loss: 0.3133 - val_accuracy: 0.3462\n",
            "Epoch 14/300\n",
            "4/4 [==============================] - 172s 55s/step - loss: 0.5510 - accuracy: 0.9284 - val_loss: 0.3154 - val_accuracy: 0.3462\n",
            "Epoch 15/300\n",
            "4/4 [==============================] - 165s 53s/step - loss: 0.5190 - accuracy: 0.9609 - val_loss: 0.2962 - val_accuracy: 0.3846\n",
            "Epoch 16/300\n",
            "4/4 [==============================] - 159s 50s/step - loss: 0.5028 - accuracy: 0.9440 - val_loss: 0.2826 - val_accuracy: 0.3846\n",
            "Epoch 17/300\n",
            "4/4 [==============================] - 159s 40s/step - loss: 0.4566 - accuracy: 0.9570 - val_loss: 0.2669 - val_accuracy: 0.4808\n",
            "Epoch 18/300\n",
            "4/4 [==============================] - 167s 53s/step - loss: 0.4317 - accuracy: 0.9609 - val_loss: 0.2593 - val_accuracy: 0.4808\n",
            "Epoch 19/300\n",
            "4/4 [==============================] - 167s 42s/step - loss: 0.4652 - accuracy: 0.9531 - val_loss: 0.2505 - val_accuracy: 0.5385\n",
            "Epoch 20/300\n",
            "4/4 [==============================] - 166s 42s/step - loss: 0.3677 - accuracy: 0.9805 - val_loss: 0.2497 - val_accuracy: 0.4808\n",
            "Epoch 21/300\n",
            "4/4 [==============================] - 165s 42s/step - loss: 0.4841 - accuracy: 0.9401 - val_loss: 0.2527 - val_accuracy: 0.4615\n",
            "Epoch 22/300\n",
            "4/4 [==============================] - 156s 39s/step - loss: 0.3843 - accuracy: 0.9570 - val_loss: 0.2534 - val_accuracy: 0.4423\n",
            "Epoch 23/300\n",
            "4/4 [==============================] - 175s 45s/step - loss: 0.4088 - accuracy: 0.9492 - val_loss: 0.2428 - val_accuracy: 0.4423\n",
            "Epoch 24/300\n",
            "4/4 [==============================] - 164s 42s/step - loss: 0.4336 - accuracy: 0.8880 - val_loss: 0.2225 - val_accuracy: 0.5000\n",
            "Epoch 25/300\n",
            "2/4 [==============>...............] - ETA: 1:17 - loss: 0.3658 - accuracy: 0.9219"
          ]
        },
        {
          "ename": "KeyboardInterrupt",
          "evalue": "ignored",
          "output_type": "error",
          "traceback": [
            "\u001b[0;31m---------------------------------------------------------------------------\u001b[0m",
            "\u001b[0;31mKeyboardInterrupt\u001b[0m                         Traceback (most recent call last)",
            "\u001b[0;32m<ipython-input-72-1876a7ba25ea>\u001b[0m in \u001b[0;36m<cell line: 1>\u001b[0;34m()\u001b[0m\n\u001b[0;32m----> 1\u001b[0;31m \u001b[0mhistory\u001b[0m \u001b[0;34m=\u001b[0m \u001b[0mmodel\u001b[0m\u001b[0;34m.\u001b[0m\u001b[0mfit\u001b[0m\u001b[0;34m(\u001b[0m\u001b[0mtraining_generator\u001b[0m\u001b[0;34m,\u001b[0m \u001b[0mvalidation_data\u001b[0m\u001b[0;34m=\u001b[0m\u001b[0mvalidation_generator\u001b[0m\u001b[0;34m,\u001b[0m \u001b[0mbatch_size\u001b[0m\u001b[0;34m=\u001b[0m\u001b[0;36m64\u001b[0m\u001b[0;34m,\u001b[0m \u001b[0mepochs\u001b[0m\u001b[0;34m=\u001b[0m\u001b[0;36m300\u001b[0m\u001b[0;34m)\u001b[0m\u001b[0;34m\u001b[0m\u001b[0;34m\u001b[0m\u001b[0m\n\u001b[0m",
            "\u001b[0;32m/usr/local/lib/python3.10/dist-packages/keras/utils/traceback_utils.py\u001b[0m in \u001b[0;36merror_handler\u001b[0;34m(*args, **kwargs)\u001b[0m\n\u001b[1;32m     63\u001b[0m         \u001b[0mfiltered_tb\u001b[0m \u001b[0;34m=\u001b[0m \u001b[0;32mNone\u001b[0m\u001b[0;34m\u001b[0m\u001b[0;34m\u001b[0m\u001b[0m\n\u001b[1;32m     64\u001b[0m         \u001b[0;32mtry\u001b[0m\u001b[0;34m:\u001b[0m\u001b[0;34m\u001b[0m\u001b[0;34m\u001b[0m\u001b[0m\n\u001b[0;32m---> 65\u001b[0;31m             \u001b[0;32mreturn\u001b[0m \u001b[0mfn\u001b[0m\u001b[0;34m(\u001b[0m\u001b[0;34m*\u001b[0m\u001b[0margs\u001b[0m\u001b[0;34m,\u001b[0m \u001b[0;34m**\u001b[0m\u001b[0mkwargs\u001b[0m\u001b[0;34m)\u001b[0m\u001b[0;34m\u001b[0m\u001b[0;34m\u001b[0m\u001b[0m\n\u001b[0m\u001b[1;32m     66\u001b[0m         \u001b[0;32mexcept\u001b[0m \u001b[0mException\u001b[0m \u001b[0;32mas\u001b[0m \u001b[0me\u001b[0m\u001b[0;34m:\u001b[0m\u001b[0;34m\u001b[0m\u001b[0;34m\u001b[0m\u001b[0m\n\u001b[1;32m     67\u001b[0m             \u001b[0mfiltered_tb\u001b[0m \u001b[0;34m=\u001b[0m \u001b[0m_process_traceback_frames\u001b[0m\u001b[0;34m(\u001b[0m\u001b[0me\u001b[0m\u001b[0;34m.\u001b[0m\u001b[0m__traceback__\u001b[0m\u001b[0;34m)\u001b[0m\u001b[0;34m\u001b[0m\u001b[0;34m\u001b[0m\u001b[0m\n",
            "\u001b[0;32m/usr/local/lib/python3.10/dist-packages/keras/engine/training.py\u001b[0m in \u001b[0;36mfit\u001b[0;34m(self, x, y, batch_size, epochs, verbose, callbacks, validation_split, validation_data, shuffle, class_weight, sample_weight, initial_epoch, steps_per_epoch, validation_steps, validation_batch_size, validation_freq, max_queue_size, workers, use_multiprocessing)\u001b[0m\n\u001b[1;32m   1683\u001b[0m                         ):\n\u001b[1;32m   1684\u001b[0m                             \u001b[0mcallbacks\u001b[0m\u001b[0;34m.\u001b[0m\u001b[0mon_train_batch_begin\u001b[0m\u001b[0;34m(\u001b[0m\u001b[0mstep\u001b[0m\u001b[0;34m)\u001b[0m\u001b[0;34m\u001b[0m\u001b[0;34m\u001b[0m\u001b[0m\n\u001b[0;32m-> 1685\u001b[0;31m                             \u001b[0mtmp_logs\u001b[0m \u001b[0;34m=\u001b[0m \u001b[0mself\u001b[0m\u001b[0;34m.\u001b[0m\u001b[0mtrain_function\u001b[0m\u001b[0;34m(\u001b[0m\u001b[0miterator\u001b[0m\u001b[0;34m)\u001b[0m\u001b[0;34m\u001b[0m\u001b[0;34m\u001b[0m\u001b[0m\n\u001b[0m\u001b[1;32m   1686\u001b[0m                             \u001b[0;32mif\u001b[0m \u001b[0mdata_handler\u001b[0m\u001b[0;34m.\u001b[0m\u001b[0mshould_sync\u001b[0m\u001b[0;34m:\u001b[0m\u001b[0;34m\u001b[0m\u001b[0;34m\u001b[0m\u001b[0m\n\u001b[1;32m   1687\u001b[0m                                 \u001b[0mcontext\u001b[0m\u001b[0;34m.\u001b[0m\u001b[0masync_wait\u001b[0m\u001b[0;34m(\u001b[0m\u001b[0;34m)\u001b[0m\u001b[0;34m\u001b[0m\u001b[0;34m\u001b[0m\u001b[0m\n",
            "\u001b[0;32m/usr/local/lib/python3.10/dist-packages/tensorflow/python/util/traceback_utils.py\u001b[0m in \u001b[0;36merror_handler\u001b[0;34m(*args, **kwargs)\u001b[0m\n\u001b[1;32m    148\u001b[0m     \u001b[0mfiltered_tb\u001b[0m \u001b[0;34m=\u001b[0m \u001b[0;32mNone\u001b[0m\u001b[0;34m\u001b[0m\u001b[0;34m\u001b[0m\u001b[0m\n\u001b[1;32m    149\u001b[0m     \u001b[0;32mtry\u001b[0m\u001b[0;34m:\u001b[0m\u001b[0;34m\u001b[0m\u001b[0;34m\u001b[0m\u001b[0m\n\u001b[0;32m--> 150\u001b[0;31m       \u001b[0;32mreturn\u001b[0m \u001b[0mfn\u001b[0m\u001b[0;34m(\u001b[0m\u001b[0;34m*\u001b[0m\u001b[0margs\u001b[0m\u001b[0;34m,\u001b[0m \u001b[0;34m**\u001b[0m\u001b[0mkwargs\u001b[0m\u001b[0;34m)\u001b[0m\u001b[0;34m\u001b[0m\u001b[0;34m\u001b[0m\u001b[0m\n\u001b[0m\u001b[1;32m    151\u001b[0m     \u001b[0;32mexcept\u001b[0m \u001b[0mException\u001b[0m \u001b[0;32mas\u001b[0m \u001b[0me\u001b[0m\u001b[0;34m:\u001b[0m\u001b[0;34m\u001b[0m\u001b[0;34m\u001b[0m\u001b[0m\n\u001b[1;32m    152\u001b[0m       \u001b[0mfiltered_tb\u001b[0m \u001b[0;34m=\u001b[0m \u001b[0m_process_traceback_frames\u001b[0m\u001b[0;34m(\u001b[0m\u001b[0me\u001b[0m\u001b[0;34m.\u001b[0m\u001b[0m__traceback__\u001b[0m\u001b[0;34m)\u001b[0m\u001b[0;34m\u001b[0m\u001b[0;34m\u001b[0m\u001b[0m\n",
            "\u001b[0;32m/usr/local/lib/python3.10/dist-packages/tensorflow/python/eager/polymorphic_function/polymorphic_function.py\u001b[0m in \u001b[0;36m__call__\u001b[0;34m(self, *args, **kwds)\u001b[0m\n\u001b[1;32m    892\u001b[0m \u001b[0;34m\u001b[0m\u001b[0m\n\u001b[1;32m    893\u001b[0m       \u001b[0;32mwith\u001b[0m \u001b[0mOptionalXlaContext\u001b[0m\u001b[0;34m(\u001b[0m\u001b[0mself\u001b[0m\u001b[0;34m.\u001b[0m\u001b[0m_jit_compile\u001b[0m\u001b[0;34m)\u001b[0m\u001b[0;34m:\u001b[0m\u001b[0;34m\u001b[0m\u001b[0;34m\u001b[0m\u001b[0m\n\u001b[0;32m--> 894\u001b[0;31m         \u001b[0mresult\u001b[0m \u001b[0;34m=\u001b[0m \u001b[0mself\u001b[0m\u001b[0;34m.\u001b[0m\u001b[0m_call\u001b[0m\u001b[0;34m(\u001b[0m\u001b[0;34m*\u001b[0m\u001b[0margs\u001b[0m\u001b[0;34m,\u001b[0m \u001b[0;34m**\u001b[0m\u001b[0mkwds\u001b[0m\u001b[0;34m)\u001b[0m\u001b[0;34m\u001b[0m\u001b[0;34m\u001b[0m\u001b[0m\n\u001b[0m\u001b[1;32m    895\u001b[0m \u001b[0;34m\u001b[0m\u001b[0m\n\u001b[1;32m    896\u001b[0m       \u001b[0mnew_tracing_count\u001b[0m \u001b[0;34m=\u001b[0m \u001b[0mself\u001b[0m\u001b[0;34m.\u001b[0m\u001b[0mexperimental_get_tracing_count\u001b[0m\u001b[0;34m(\u001b[0m\u001b[0;34m)\u001b[0m\u001b[0;34m\u001b[0m\u001b[0;34m\u001b[0m\u001b[0m\n",
            "\u001b[0;32m/usr/local/lib/python3.10/dist-packages/tensorflow/python/eager/polymorphic_function/polymorphic_function.py\u001b[0m in \u001b[0;36m_call\u001b[0;34m(self, *args, **kwds)\u001b[0m\n\u001b[1;32m    924\u001b[0m       \u001b[0;31m# In this case we have created variables on the first call, so we run the\u001b[0m\u001b[0;34m\u001b[0m\u001b[0;34m\u001b[0m\u001b[0m\n\u001b[1;32m    925\u001b[0m       \u001b[0;31m# defunned version which is guaranteed to never create variables.\u001b[0m\u001b[0;34m\u001b[0m\u001b[0;34m\u001b[0m\u001b[0m\n\u001b[0;32m--> 926\u001b[0;31m       \u001b[0;32mreturn\u001b[0m \u001b[0mself\u001b[0m\u001b[0;34m.\u001b[0m\u001b[0m_no_variable_creation_fn\u001b[0m\u001b[0;34m(\u001b[0m\u001b[0;34m*\u001b[0m\u001b[0margs\u001b[0m\u001b[0;34m,\u001b[0m \u001b[0;34m**\u001b[0m\u001b[0mkwds\u001b[0m\u001b[0;34m)\u001b[0m  \u001b[0;31m# pylint: disable=not-callable\u001b[0m\u001b[0;34m\u001b[0m\u001b[0;34m\u001b[0m\u001b[0m\n\u001b[0m\u001b[1;32m    927\u001b[0m     \u001b[0;32melif\u001b[0m \u001b[0mself\u001b[0m\u001b[0;34m.\u001b[0m\u001b[0m_variable_creation_fn\u001b[0m \u001b[0;32mis\u001b[0m \u001b[0;32mnot\u001b[0m \u001b[0;32mNone\u001b[0m\u001b[0;34m:\u001b[0m\u001b[0;34m\u001b[0m\u001b[0;34m\u001b[0m\u001b[0m\n\u001b[1;32m    928\u001b[0m       \u001b[0;31m# Release the lock early so that multiple threads can perform the call\u001b[0m\u001b[0;34m\u001b[0m\u001b[0;34m\u001b[0m\u001b[0m\n",
            "\u001b[0;32m/usr/local/lib/python3.10/dist-packages/tensorflow/python/eager/polymorphic_function/tracing_compiler.py\u001b[0m in \u001b[0;36m__call__\u001b[0;34m(self, *args, **kwargs)\u001b[0m\n\u001b[1;32m    141\u001b[0m       (concrete_function,\n\u001b[1;32m    142\u001b[0m        filtered_flat_args) = self._maybe_define_function(args, kwargs)\n\u001b[0;32m--> 143\u001b[0;31m     return concrete_function._call_flat(\n\u001b[0m\u001b[1;32m    144\u001b[0m         filtered_flat_args, captured_inputs=concrete_function.captured_inputs)  # pylint: disable=protected-access\n\u001b[1;32m    145\u001b[0m \u001b[0;34m\u001b[0m\u001b[0m\n",
            "\u001b[0;32m/usr/local/lib/python3.10/dist-packages/tensorflow/python/eager/polymorphic_function/monomorphic_function.py\u001b[0m in \u001b[0;36m_call_flat\u001b[0;34m(self, args, captured_inputs, cancellation_manager)\u001b[0m\n\u001b[1;32m   1755\u001b[0m         and executing_eagerly):\n\u001b[1;32m   1756\u001b[0m       \u001b[0;31m# No tape is watching; skip to running the function.\u001b[0m\u001b[0;34m\u001b[0m\u001b[0;34m\u001b[0m\u001b[0m\n\u001b[0;32m-> 1757\u001b[0;31m       return self._build_call_outputs(self._inference_function.call(\n\u001b[0m\u001b[1;32m   1758\u001b[0m           ctx, args, cancellation_manager=cancellation_manager))\n\u001b[1;32m   1759\u001b[0m     forward_backward = self._select_forward_and_backward_functions(\n",
            "\u001b[0;32m/usr/local/lib/python3.10/dist-packages/tensorflow/python/eager/polymorphic_function/monomorphic_function.py\u001b[0m in \u001b[0;36mcall\u001b[0;34m(self, ctx, args, cancellation_manager)\u001b[0m\n\u001b[1;32m    379\u001b[0m       \u001b[0;32mwith\u001b[0m \u001b[0m_InterpolateFunctionError\u001b[0m\u001b[0;34m(\u001b[0m\u001b[0mself\u001b[0m\u001b[0;34m)\u001b[0m\u001b[0;34m:\u001b[0m\u001b[0;34m\u001b[0m\u001b[0;34m\u001b[0m\u001b[0m\n\u001b[1;32m    380\u001b[0m         \u001b[0;32mif\u001b[0m \u001b[0mcancellation_manager\u001b[0m \u001b[0;32mis\u001b[0m \u001b[0;32mNone\u001b[0m\u001b[0;34m:\u001b[0m\u001b[0;34m\u001b[0m\u001b[0;34m\u001b[0m\u001b[0m\n\u001b[0;32m--> 381\u001b[0;31m           outputs = execute.execute(\n\u001b[0m\u001b[1;32m    382\u001b[0m               \u001b[0mstr\u001b[0m\u001b[0;34m(\u001b[0m\u001b[0mself\u001b[0m\u001b[0;34m.\u001b[0m\u001b[0msignature\u001b[0m\u001b[0;34m.\u001b[0m\u001b[0mname\u001b[0m\u001b[0;34m)\u001b[0m\u001b[0;34m,\u001b[0m\u001b[0;34m\u001b[0m\u001b[0;34m\u001b[0m\u001b[0m\n\u001b[1;32m    383\u001b[0m               \u001b[0mnum_outputs\u001b[0m\u001b[0;34m=\u001b[0m\u001b[0mself\u001b[0m\u001b[0;34m.\u001b[0m\u001b[0m_num_outputs\u001b[0m\u001b[0;34m,\u001b[0m\u001b[0;34m\u001b[0m\u001b[0;34m\u001b[0m\u001b[0m\n",
            "\u001b[0;32m/usr/local/lib/python3.10/dist-packages/tensorflow/python/eager/execute.py\u001b[0m in \u001b[0;36mquick_execute\u001b[0;34m(op_name, num_outputs, inputs, attrs, ctx, name)\u001b[0m\n\u001b[1;32m     50\u001b[0m   \u001b[0;32mtry\u001b[0m\u001b[0;34m:\u001b[0m\u001b[0;34m\u001b[0m\u001b[0;34m\u001b[0m\u001b[0m\n\u001b[1;32m     51\u001b[0m     \u001b[0mctx\u001b[0m\u001b[0;34m.\u001b[0m\u001b[0mensure_initialized\u001b[0m\u001b[0;34m(\u001b[0m\u001b[0;34m)\u001b[0m\u001b[0;34m\u001b[0m\u001b[0;34m\u001b[0m\u001b[0m\n\u001b[0;32m---> 52\u001b[0;31m     tensors = pywrap_tfe.TFE_Py_Execute(ctx._handle, device_name, op_name,\n\u001b[0m\u001b[1;32m     53\u001b[0m                                         inputs, attrs, num_outputs)\n\u001b[1;32m     54\u001b[0m   \u001b[0;32mexcept\u001b[0m \u001b[0mcore\u001b[0m\u001b[0;34m.\u001b[0m\u001b[0m_NotOkStatusException\u001b[0m \u001b[0;32mas\u001b[0m \u001b[0me\u001b[0m\u001b[0;34m:\u001b[0m\u001b[0;34m\u001b[0m\u001b[0;34m\u001b[0m\u001b[0m\n",
            "\u001b[0;31mKeyboardInterrupt\u001b[0m: "
          ]
        }
      ],
      "source": [
        "history = model.fit(training_generator, validation_data=validation_generator, batch_size=64, epochs=300)"
      ]
    },
    {
      "cell_type": "code",
      "execution_count": null,
      "metadata": {
        "colab": {
          "background_save": true
        },
        "id": "oQJTRchlom03"
      },
      "outputs": [],
      "source": [
        "opt = tf.keras.optimizers.Adam(learning_rate=0.00001, beta_1=0.9, beta_2=0.999)\n",
        "model.compile(loss=triplet_loss, optimizer=opt, metrics=[accuracy])\n",
        "#model.summary()\n",
        "history = model.fit(training_generator, validation_data=validation_generator, batch_size=64, epochs=10)"
      ]
    },
    {
      "cell_type": "markdown",
      "metadata": {
        "id": "mB_k0heeewlC"
      },
      "source": [
        "### Fine-tune the Base Model"
      ]
    },
    {
      "cell_type": "markdown",
      "metadata": {
        "id": "BH4stwKY2oFH"
      },
      "source": [
        "微调基础模型"
      ]
    },
    {
      "cell_type": "code",
      "execution_count": null,
      "metadata": {
        "colab": {
          "background_save": true
        },
        "id": "50-HjZBcdwx8"
      },
      "outputs": [],
      "source": [
        "fine_tune = False #微调开关\n",
        "\n",
        "if fine_tune:\n",
        "    unfreeze = False\n",
        "    for layer in base_model.layers:\n",
        "        if unfreeze:\n",
        "            layer.trainable = True\n",
        "        if layer.name == 'conv4_block6_out':\n",
        "            print ('Unfreezing last layers')\n",
        "            unfreeze = True\n",
        "\n",
        "    opt = tf.keras.optimizers.Adam(lr=0.00001)\n",
        "    model.compile(loss=triplet_loss, optimizer=opt, metrics=[accuracy])\n",
        "    history2 = model.fit(training_generator, validation_data=validation_generator, batch_size=64, epochs=50)"
      ]
    },
    {
      "cell_type": "markdown",
      "metadata": {
        "id": "spiQqrDQe2iG"
      },
      "source": [
        "### Predict on Test Images"
      ]
    },
    {
      "cell_type": "markdown",
      "metadata": {
        "id": "oSHhwzx32q-a"
      },
      "source": [
        "预测测试图像"
      ]
    },
    {
      "cell_type": "code",
      "execution_count": null,
      "metadata": {
        "id": "hhgsAs6aA_ja"
      },
      "outputs": [],
      "source": [
        "k = 0 #开关\n",
        "#更改txt文件 加载新的预测对象\n",
        "\n",
        "if k==1\n",
        "  test = pd.read_csv('/content/drive/MyDrive/image/txt/test_triplets.txt', header=None, sep=' ', dtype='str')\n",
        "  test.columns = ['img', 'img1', 'img2']\n",
        "  print (test.shape，testing_generator.list_IDs)\n",
        "  testing_generator = DataGenerator(test.values, batch_size=64, n_classes=2, shuffle=False)"
      ]
    },
    {
      "cell_type": "code",
      "execution_count": null,
      "metadata": {
        "colab": {
          "background_save": true
        },
        "id": "xSjx3rdxW1jh"
      },
      "outputs": [],
      "source": [
        "test_emb = model.predict(testing_generator, batch_size=64, verbose=1)"
      ]
    },
    {
      "cell_type": "code",
      "execution_count": null,
      "metadata": {
        "colab": {
          "background_save": true
        },
        "id": "Xyl_BYCGH7rY"
      },
      "outputs": [],
      "source": [
        "metric_p = 2\n",
        "def emb2labels(y_pred, p=metric_p, alpha=0.8):\n",
        "    total_length = y_pred.shape[-1]\n",
        "    anchor = y_pred[:, 0:int(total_length*1/3)]\n",
        "    positive = y_pred[:, int(total_length*1/3):int(total_length*2/3)]\n",
        "    negative = y_pred[:, int(total_length*2/3):int(total_length*3/3)]\n",
        "    if p == 1 or p == 2:\n",
        "        pos_dist = np.linalg.norm((anchor - positive), ord=p, axis=1) \n",
        "        neg_dist = np.linalg.norm((anchor - negative), ord=p, axis=1)\n",
        "    else:\n",
        "        normalize_a = tf.math.l2_normalize(anchor, axis=1)\n",
        "        normalize_b = tf.math.l2_normalize(positive, axis=1)        \n",
        "        normalize_c = tf.math.l2_normalize(negative, axis=1)        \n",
        "        pos_dist = -tf.matmul(normalize_a, normalize_b, transpose_b=True)\n",
        "        neg_dist = -tf.matmul(normalize_a, normalize_c, transpose_b=True)\n",
        "    #labels = (pos_dist < neg_dist).astype('int32')\n",
        "    print((pos_dist<alpha))\n",
        "    print((neg_dist>alpha))\n",
        "    labels = (pos_dist>alpha).astype('int32')*0.25+(neg_dist<alpha).astype('int32')*0.75\n",
        "    print(labels)\n",
        "    return labels\n",
        "\n",
        "test_pred = emb2labels(test_emb)"
      ]
    },
    {
      "cell_type": "markdown",
      "metadata": {
        "id": "HWnhG16Je7EE"
      },
      "source": [
        "### Plots"
      ]
    },
    {
      "cell_type": "code",
      "execution_count": null,
      "metadata": {
        "colab": {
          "background_save": true
        },
        "id": "5F-z3nFPc8Si"
      },
      "outputs": [],
      "source": [
        "plt.figure(figsize=(16, 5))\n",
        "\n",
        "plt.subplot(111)\n",
        "plt.plot(history.history['accuracy'], label='Loss')\n",
        "plt.title('Train Accuracy')\n",
        "plt.grid()\n",
        "\n",
        "plt.subplot(122)\n",
        "plt.plot(history.history['val_accuracy'], label='Loss')\n",
        "plt.title('Validation Accuracy')\n",
        "plt.grid()\n",
        "\n",
        "plt.show()"
      ]
    },
    {
      "cell_type": "markdown",
      "metadata": {
        "id": "v-bMfzv8P9dS"
      },
      "source": [
        "`ImageGrid()`函数参数说明：nrows_ncols=(1,3)表示创建一个1行3列的画布。share_all=True表示所画的图像公用x坐标轴和y坐标轴。cbar_location=\"right\"表示colorbar位于图像的右侧，当然也可以位于上方，下方和左侧。cbar_mode=\"single\"表示三个图像公用一个colorbar。\n"
      ]
    },
    {
      "cell_type": "code",
      "execution_count": null,
      "metadata": {
        "colab": {
          "background_save": true
        },
        "id": "D6YASgRRxUif"
      },
      "outputs": [],
      "source": [
        "test_pred[0]"
      ]
    },
    {
      "cell_type": "code",
      "execution_count": null,
      "metadata": {
        "colab": {
          "background_save": true
        },
        "id": "m_mUVUMlcbOe"
      },
      "outputs": [],
      "source": [
        "from mpl_toolkits.axes_grid1 import ImageGrid\n",
        "\n",
        "fig = plt.figure(figsize=(16, 10*5))\n",
        "grid = ImageGrid(fig, 111, nrows_ncols=(10, 3), axes_pad=0.4)\n",
        "\n",
        "im = []\n",
        "#for i in [1, 10, 2000, 6000, 10000, 15000, 20000, 25000, 40000, 50000]:\n",
        "for i in [1,2,3,4,5,6,7,8]:\n",
        "    lab = test_pred[i]\n",
        "    if lab == 0:\n",
        "        text = '都搞错了'\n",
        "        text1 = 'Fake0'\n",
        "        text2 = 'True0'\n",
        "    elif lab == 0.25:\n",
        "        text = '真的没认出来'\n",
        "        text1 = 'True0.25'\n",
        "        text2 = 'True0.25'\n",
        "    elif lab == 0.75:\n",
        "        text =  '假的没认出来'\n",
        "        text1 == 'Fake0.75'\n",
        "        text2 == 'Fake0.75' \n",
        "    elif lab == 1:\n",
        "        text = '都认出来了'\n",
        "        text1 = 'True0.75'\n",
        "        text2 = 'Fake0.75'\n",
        "    im.append((io.imread(img_dir+test.iloc[i]['img']+'.png'), text))\n",
        "    im.append((io.imread(img_dir+test.iloc[i]['img1']+'.png'), text1))\n",
        "    im.append((io.imread(img_dir+test.iloc[i]['img2']+'.png'), text2))\n",
        "\n",
        "for ax, im in zip(grid, im):\n",
        "    ax.imshow(im[0])\n",
        "    ax.set_title(im[1])\n",
        "plt.show()"
      ]
    }
  ],
  "metadata": {
    "accelerator": "TPU",
    "colab": {
      "provenance": [],
      "include_colab_link": true
    },
    "gpuClass": "standard",
    "kernelspec": {
      "display_name": "Python 3 (ipykernel)",
      "language": "python",
      "name": "python3"
    },
    "language_info": {
      "codemirror_mode": {
        "name": "ipython",
        "version": 3
      },
      "file_extension": ".py",
      "mimetype": "text/x-python",
      "name": "python",
      "nbconvert_exporter": "python",
      "pygments_lexer": "ipython3",
      "version": "3.9.7"
    }
  },
  "nbformat": 4,
  "nbformat_minor": 0
}